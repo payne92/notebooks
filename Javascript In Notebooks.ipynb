{
 "metadata": {
  "name": "",
  "signature": "sha256:495a9ffcf0dea6279147d0756a7bca5c8374305771312bfbe45001b05a4ec6c1"
 },
 "nbformat": 3,
 "nbformat_minor": 0,
 "worksheets": [
  {
   "cells": [
    {
     "cell_type": "markdown",
     "metadata": {},
     "source": [
      "# Using Javascript in IPython Notebooks\n",
      "\n",
      "<andy@payne.org>  \n",
      "Updated:  June 18, 2014\n",
      "\n",
      "These are my notes on using Javascript inside of the iPython Web Notebook."
     ]
    },
    {
     "cell_type": "markdown",
     "metadata": {},
     "source": [
      "## Getting Started\n",
      "\n",
      "The easiest way to access Javascript is with the `%%javascript` cell magic:"
     ]
    },
    {
     "cell_type": "code",
     "collapsed": false,
     "input": [
      "%%javascript\n",
      "console.log(\"Hello World!\")"
     ],
     "language": "python",
     "metadata": {},
     "outputs": [
      {
       "javascript": [
        "console.log(\"Hello World!\")"
       ],
       "metadata": {},
       "output_type": "display_data",
       "text": [
        "<IPython.core.display.Javascript at 0x7f5c64969e10>"
       ]
      }
     ],
     "prompt_number": 1
    },
    {
     "cell_type": "markdown",
     "metadata": {},
     "source": [
      "(To view the Javascript console in Chrome & Firefox, use CONTROL+SHIFT+J)."
     ]
    },
    {
     "cell_type": "markdown",
     "metadata": {},
     "source": [
      "## Accessing the Cell Output Area\n",
      "\n",
      "The `element` Javascript variable refers to the current cell.  For example:"
     ]
    },
    {
     "cell_type": "code",
     "collapsed": false,
     "input": [
      "%%javascript\n",
      "element.append(\"Hello World!\");"
     ],
     "language": "python",
     "metadata": {},
     "outputs": [
      {
       "javascript": [
        "element.append(\"Hello World!\");"
       ],
       "metadata": {},
       "output_type": "display_data",
       "text": [
        "<IPython.core.display.Javascript at 0x7f5c64969f10>"
       ]
      }
     ],
     "prompt_number": 2
    },
    {
     "cell_type": "markdown",
     "metadata": {},
     "source": [
      "(NOTE:  prior to version 2.0, there was a `container` variable, but the current docs refer to an `element` variable. For more information, see the source: [outputarea.js](https://github.com/ipython/ipython/blob/f1ad8aa9db9ab3ebcaeafb7c4d1bfc7521c65d55/IPython/html/static/notebook/js/outputarea.js)).\n",
      "\n",
      "You can also use the [`Javascript()`](http://ipython.org/ipython-doc/2/api/generated/IPython.core.display.html#IPython.core.display.Javascript) object, creates an object that will be rendered as Javascript by the IPython display system:"
     ]
    },
    {
     "cell_type": "code",
     "collapsed": false,
     "input": [
      "from IPython.display import Javascript\n",
      "Javascript(\"element.append('Hello World, Again!');\")"
     ],
     "language": "python",
     "metadata": {},
     "outputs": [
      {
       "javascript": [
        "element.append('Hello World, Again!');"
       ],
       "metadata": {},
       "output_type": "pyout",
       "prompt_number": 3,
       "text": [
        "<IPython.core.display.Javascript at 0x7f5c64983390>"
       ]
      }
     ],
     "prompt_number": 3
    },
    {
     "cell_type": "markdown",
     "metadata": {},
     "source": [
      "A lower-level approach is to implement a `_repr_javascript_()` object method that returns Javascript.  This lets you add Javascript rendering to any object:"
     ]
    },
    {
     "cell_type": "code",
     "collapsed": false,
     "input": [
      "class HelloWorld():\n",
      "    def _repr_javascript_(self):\n",
      "        return \"element.append('HelloWorld class');\"\n",
      "    \n",
      "hw = HelloWorld()\n",
      "hw"
     ],
     "language": "python",
     "metadata": {},
     "outputs": [
      {
       "javascript": [
        "element.append('HelloWorld class');"
       ],
       "metadata": {},
       "output_type": "pyout",
       "prompt_number": 4,
       "text": [
        "<__main__.HelloWorld instance at 0x7f5c64966488>"
       ]
      }
     ],
     "prompt_number": 4
    },
    {
     "cell_type": "markdown",
     "metadata": {},
     "source": [
      "## Global Variables\n",
      "\n",
      "It's sometimes handy to define a global variable or function that can be used in later Javascript cells.  Attributes added to the `windows` object are available as global variables:"
     ]
    },
    {
     "cell_type": "code",
     "collapsed": false,
     "input": [
      "%%javascript\n",
      "window.foovar = 42;"
     ],
     "language": "python",
     "metadata": {},
     "outputs": [
      {
       "javascript": [
        "window.foovar = 42;"
       ],
       "metadata": {},
       "output_type": "display_data",
       "text": [
        "<IPython.core.display.Javascript at 0x7f5c64969d90>"
       ]
      }
     ],
     "prompt_number": 5
    },
    {
     "cell_type": "code",
     "collapsed": false,
     "input": [
      "%%javascript\n",
      "element.append(foovar);"
     ],
     "language": "python",
     "metadata": {},
     "outputs": [
      {
       "javascript": [
        "element.append(foovar);"
       ],
       "metadata": {},
       "output_type": "display_data",
       "text": [
        "<IPython.core.display.Javascript at 0x7f5c64969f10>"
       ]
      }
     ],
     "prompt_number": 6
    },
    {
     "cell_type": "markdown",
     "metadata": {},
     "source": [
      "## Loading External Javascript Libraries\n",
      "\n",
      "You often need to load other Javascript libraries before your code is run.  The `lib` argument to the `Javascript()` display object specifies required libraries:"
     ]
    },
    {
     "cell_type": "code",
     "collapsed": false,
     "input": [
      "libs = [\"http://cdnjs.cloudflare.com/ajax/libs/three.js/r61/three.js\"]\n",
      "Javascript(\"\"\"element.append(THREE.REVISION);\"\"\", lib=libs)"
     ],
     "language": "python",
     "metadata": {},
     "outputs": [
      {
       "javascript": [
        "$.getScript(\"http://cdnjs.cloudflare.com/ajax/libs/three.js/r61/three.js\", function () {\n",
        "element.append(THREE.REVISION);});\n"
       ],
       "metadata": {},
       "output_type": "pyout",
       "prompt_number": 7,
       "text": [
        "<IPython.core.display.Javascript at 0x7f5c64983590>"
       ]
      }
     ],
     "prompt_number": 7
    },
    {
     "cell_type": "markdown",
     "metadata": {},
     "source": [
      "NOTE: __libraries are reloaded each time the cell is run__.  The underlying implementation, as of IPython 2.1, uses jQuery's [getScript()](http://api.jquery.com/jquery.getscript/) method to load each library in the order specified.  \n",
      "\n",
      "This behavior will break any running event loops (such as an animate event used with THREE.js), because the old event loop will be running with objects defined from the first library load, and the variables will get overwritten with new types based on the second library load.\n",
      "\n",
      "For example, in this THREE.js example, the `animate()` function is called 60 times/second to render the scene and rotate the cube. When the cell is reloaded, the call to `render.render(scene, camera)` will fail:"
     ]
    },
    {
     "cell_type": "code",
     "collapsed": false,
     "input": [
      "libs = [\"http://cdnjs.cloudflare.com/ajax/libs/three.js/r61/three.js\"]\n",
      "Javascript(\"\"\"\n",
      "    var renderer = new THREE.WebGLRenderer({ antialias: true });\n",
      "    var canvas = renderer.domElement;\n",
      "    element.append(canvas);\n",
      "    var camera = new THREE.PerspectiveCamera(70, canvas.width / canvas.height, 1, 1000);\n",
      "    camera.position.z = 400;\n",
      "    var scene = new THREE.Scene();\n",
      "    var material = new THREE.MeshDepthMaterial();\n",
      "    var mesh = new THREE.Mesh(new THREE.CubeGeometry(200, 200, 200), material);\n",
      "    scene.add(mesh);\n",
      "    function animate() {\n",
      "        renderer.render(scene, camera);\n",
      "        mesh.rotation.x += 0.005;\n",
      "        mesh.rotation.y += 0.01;\n",
      "        requestAnimationFrame(animate);\n",
      "    }\n",
      "    animate();\n",
      "\"\"\", lib=libs)"
     ],
     "language": "python",
     "metadata": {},
     "outputs": [
      {
       "javascript": [
        "$.getScript(\"http://cdnjs.cloudflare.com/ajax/libs/three.js/r61/three.js\", function () {\n",
        "\n",
        "    var renderer = new THREE.WebGLRenderer({ antialias: true });\n",
        "    var canvas = renderer.domElement;\n",
        "    element.append(canvas);\n",
        "    var camera = new THREE.PerspectiveCamera(70, canvas.width / canvas.height, 1, 1000);\n",
        "    camera.position.z = 400;\n",
        "    var scene = new THREE.Scene();\n",
        "    var material = new THREE.MeshDepthMaterial();\n",
        "    var mesh = new THREE.Mesh(new THREE.CubeGeometry(200, 200, 200), material);\n",
        "    scene.add(mesh);\n",
        "    function animate() {\n",
        "        renderer.render(scene, camera);\n",
        "        mesh.rotation.x += 0.005;\n",
        "        mesh.rotation.y += 0.01;\n",
        "        requestAnimationFrame(animate);\n",
        "    }\n",
        "    animate();\n",
        "});\n"
       ],
       "metadata": {},
       "output_type": "pyout",
       "prompt_number": 8,
       "text": [
        "<IPython.core.display.Javascript at 0x7f5c64983110>"
       ]
      }
     ],
     "prompt_number": 8
    },
    {
     "cell_type": "markdown",
     "metadata": {},
     "source": [
      "Because of this, the animation event loop will stop when the library is reloaded.  For example, executing the following cell will cause the rotating cube to stop:"
     ]
    },
    {
     "cell_type": "code",
     "collapsed": false,
     "input": [
      "libs = [\"http://cdnjs.cloudflare.com/ajax/libs/three.js/r61/three.js\"]\n",
      "Javascript(\"\"\"console.log(THREE);\"\"\", lib=libs)"
     ],
     "language": "python",
     "metadata": {},
     "outputs": [
      {
       "javascript": [
        "$.getScript(\"http://cdnjs.cloudflare.com/ajax/libs/three.js/r61/three.js\", function () {\n",
        "console.log(THREE);});\n"
       ],
       "metadata": {},
       "output_type": "pyout",
       "prompt_number": 9,
       "text": [
        "<IPython.core.display.Javascript at 0x7f5c64983650>"
       ]
      }
     ],
     "prompt_number": 9
    },
    {
     "cell_type": "markdown",
     "metadata": {},
     "source": [
      "A better approach is to use [require.js](http://requirejs.org/docs/api.html) to load external modules, which is supported starting in IPython 2.0.  First, define the paths to the different modules:"
     ]
    },
    {
     "cell_type": "code",
     "collapsed": false,
     "input": [
      "%%javascript\n",
      "require.config({\n",
      "    paths: {\n",
      "        'three': \"http://cdnjs.cloudflare.com/ajax/libs/three.js/r61/three\",\n",
      "    }\n",
      "});"
     ],
     "language": "python",
     "metadata": {},
     "outputs": [
      {
       "javascript": [
        "require.config({\n",
        "    paths: {\n",
        "        'three': \"http://cdnjs.cloudflare.com/ajax/libs/three.js/r61/three\",\n",
        "    }\n",
        "});"
       ],
       "metadata": {},
       "output_type": "display_data",
       "text": [
        "<IPython.core.display.Javascript at 0x7f5c64969e10>"
       ]
      }
     ],
     "prompt_number": 10
    },
    {
     "cell_type": "markdown",
     "metadata": {},
     "source": [
      "Now, use the `require()` function to wrap your code, specifying the libraries you need:"
     ]
    },
    {
     "cell_type": "code",
     "collapsed": false,
     "input": [
      "%%javascript\n",
      "require(['three'], function() {\n",
      "    element.append(THREE.REVISION);\n",
      "});"
     ],
     "language": "python",
     "metadata": {},
     "outputs": [
      {
       "javascript": [
        "require(['three'], function() {\n",
        "    element.append(THREE.REVISION);\n",
        "});"
       ],
       "metadata": {},
       "output_type": "display_data",
       "text": [
        "<IPython.core.display.Javascript at 0x7f5c64983250>"
       ]
      }
     ],
     "prompt_number": 11
    },
    {
     "cell_type": "markdown",
     "metadata": {},
     "source": [
      "Using the previous example:"
     ]
    },
    {
     "cell_type": "code",
     "collapsed": false,
     "input": [
      "%%javascript\n",
      "var renderer = new THREE.WebGLRenderer({ antialias: true });\n",
      "var canvas = renderer.domElement;\n",
      "element.append(canvas);\n",
      "var camera = new THREE.PerspectiveCamera(70, canvas.width / canvas.height, 1, 1000);\n",
      "camera.position.z = 400;\n",
      "var scene = new THREE.Scene();\n",
      "var material = new THREE.MeshDepthMaterial();\n",
      "var mesh = new THREE.Mesh(new THREE.CubeGeometry(200, 200, 200), material);\n",
      "scene.add(mesh);\n",
      "function animate() {\n",
      "    renderer.render(scene, camera);\n",
      "    mesh.rotation.x += 0.005;\n",
      "    mesh.rotation.y += 0.01;\n",
      "    requestAnimationFrame(animate);\n",
      "}\n",
      "animate();"
     ],
     "language": "python",
     "metadata": {},
     "outputs": [
      {
       "javascript": [
        "var renderer = new THREE.WebGLRenderer({ antialias: true });\n",
        "var canvas = renderer.domElement;\n",
        "element.append(canvas);\n",
        "var camera = new THREE.PerspectiveCamera(70, canvas.width / canvas.height, 1, 1000);\n",
        "camera.position.z = 400;\n",
        "var scene = new THREE.Scene();\n",
        "var material = new THREE.MeshDepthMaterial();\n",
        "var mesh = new THREE.Mesh(new THREE.CubeGeometry(200, 200, 200), material);\n",
        "scene.add(mesh);\n",
        "function animate() {\n",
        "    renderer.render(scene, camera);\n",
        "    mesh.rotation.x += 0.005;\n",
        "    mesh.rotation.y += 0.01;\n",
        "    requestAnimationFrame(animate);\n",
        "}\n",
        "animate();"
       ],
       "metadata": {},
       "output_type": "display_data",
       "text": [
        "<IPython.core.display.Javascript at 0x7f5c64969f90>"
       ]
      }
     ],
     "prompt_number": 12
    },
    {
     "cell_type": "markdown",
     "metadata": {},
     "source": [
      "And now reloading doesn't break the animation event loop:"
     ]
    },
    {
     "cell_type": "code",
     "collapsed": false,
     "input": [
      "%%javascript\n",
      "require(['three'], function() {\n",
      "    element.append(THREE.REVISION);\n",
      "});"
     ],
     "language": "python",
     "metadata": {},
     "outputs": [
      {
       "javascript": [
        "require(['three'], function() {\n",
        "    element.append(THREE.REVISION);\n",
        "});"
       ],
       "metadata": {},
       "output_type": "display_data",
       "text": [
        "<IPython.core.display.Javascript at 0x7f5c649835d0>"
       ]
      }
     ],
     "prompt_number": 13
    },
    {
     "cell_type": "markdown",
     "metadata": {},
     "source": [
      "## Generating Javascript from Python\n",
      "\n",
      "You often want to generate Javascript from Python.  \n",
      "\n",
      "Here's a hack that takes a fragment of Javascript, finds all the functions that are declared, and generates bound Python methods for each function:"
     ]
    },
    {
     "cell_type": "code",
     "collapsed": false,
     "input": [
      "import types\n",
      "from functools import partial\n",
      "import json\n",
      "\n",
      "class JSCode(object):\n",
      "    def __init__(self, code):\n",
      "        self.code = code\n",
      "        self.invokes = \"\"\n",
      "        \n",
      "        # Find all the function name(  lines in the Javasript code\n",
      "        for line in code.split(\"\\n\"):\n",
      "            line = line.strip().split()\n",
      "            if line and line[0] == 'function':\n",
      "                funcname = line[1].split(\"(\")[0]\n",
      "                \n",
      "                # For each create a bound method to add to the list of invocations\n",
      "                def invoke(self, *args):\n",
      "                    argstr = ','.join([json.dumps(arg) for arg in args])\n",
      "                    self.invokes += \"%s(%s);\\n\" % (funcname, argstr)                \n",
      "\n",
      "                setattr(self, funcname, types.MethodType(invoke, self))    \n",
      "                \n",
      "    def _repr_javascript_(self):\n",
      "        \"\"\"Return the code definitions and all invocations\"\"\"\n",
      "        return self.code + self.invokes\n",
      "        "
     ],
     "language": "python",
     "metadata": {},
     "outputs": [],
     "prompt_number": 14
    },
    {
     "cell_type": "markdown",
     "metadata": {},
     "source": [
      "For example:"
     ]
    },
    {
     "cell_type": "code",
     "collapsed": false,
     "input": [
      "code = JSCode(\"\"\"\n",
      "    function test() {\n",
      "        console.log(\"test!\");\n",
      "    }\n",
      "\n",
      "    function output(string) {\n",
      "        element.append(string);\n",
      "    }\n",
      "\"\"\")"
     ],
     "language": "python",
     "metadata": {},
     "outputs": [],
     "prompt_number": 15
    },
    {
     "cell_type": "markdown",
     "metadata": {},
     "source": [
      "Now, the `code` object has `test()` and `output()` methods corresponding to Javascript methods:"
     ]
    },
    {
     "cell_type": "code",
     "collapsed": false,
     "input": [
      "code.test, code.output"
     ],
     "language": "python",
     "metadata": {},
     "outputs": [
      {
       "metadata": {},
       "output_type": "pyout",
       "prompt_number": 16,
       "text": [
        "(<bound method ?.invoke of <__main__.JSCode object at 0x7f5c64983710>>,\n",
        " <bound method ?.invoke of <__main__.JSCode object at 0x7f5c64983710>>)"
       ]
      }
     ],
     "prompt_number": 16
    },
    {
     "cell_type": "markdown",
     "metadata": {},
     "source": [
      "When these methods are invoked, corresponding Javascript calls are added to the  `code` object:"
     ]
    },
    {
     "cell_type": "code",
     "collapsed": false,
     "input": [
      "code.output(\"foo\")\n",
      "code.output(\" and bar\")\n",
      "\n",
      "code"
     ],
     "language": "python",
     "metadata": {},
     "outputs": [
      {
       "javascript": [
        "\n",
        "    function test() {\n",
        "        console.log(\"test!\");\n",
        "    }\n",
        "\n",
        "    function output(string) {\n",
        "        element.append(string);\n",
        "    }\n",
        "output(\"foo\");\n",
        "output(\" and bar\");\n"
       ],
       "metadata": {},
       "output_type": "pyout",
       "prompt_number": 17,
       "text": [
        "<__main__.JSCode at 0x7f5c64983710>"
       ]
      }
     ],
     "prompt_number": 17
    },
    {
     "cell_type": "markdown",
     "metadata": {},
     "source": [
      "Here is the corresponding Javascript fragment that was generated:"
     ]
    },
    {
     "cell_type": "code",
     "collapsed": false,
     "input": [
      "print code._repr_javascript_()"
     ],
     "language": "python",
     "metadata": {},
     "outputs": [
      {
       "output_type": "stream",
       "stream": "stdout",
       "text": [
        "\n",
        "    function test() {\n",
        "        console.log(\"test!\");\n",
        "    }\n",
        "\n",
        "    function output(string) {\n",
        "        element.append(string);\n",
        "    }\n",
        "output(\"foo\");\n",
        "output(\" and bar\");\n",
        "\n"
       ]
      }
     ],
     "prompt_number": 18
    },
    {
     "cell_type": "markdown",
     "metadata": {},
     "source": [
      "---\n",
      "\n",
      "## References\n",
      "\n",
      "- Javascript code for the Notebok \"output area\":  [outputarea.js](https://github.com/ipython/ipython/blob/f1ad8aa9db9ab3ebcaeafb7c4d1bfc7521c65d55/IPython/html/static/notebook/js/outputarea.js)\n",
      "\n",
      "- Relevant pull request and issue:  https://github.com/ipython/ipython/pull/4646\n",
      "\n",
      "- [IPython Notebook display system](http://nbviewer.ipython.org/github/ipython/ipython/blob/2.x/examples/Notebook/Display%20System.ipynb)\n",
      "\n",
      "- [Implementing custom display logic](http://nbviewer.ipython.org/github/ipython/ipython/blob/2.x/examples/Notebook/Custom%20Display%20Logic.ipynb)"
     ]
    }
   ],
   "metadata": {}
  }
 ]
}