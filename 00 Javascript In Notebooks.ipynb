{
 "cells": [
  {
   "cell_type": "raw",
   "metadata": {},
   "source": []
  },
  {
   "cell_type": "markdown",
   "metadata": {},
   "source": [
    "# Using Javascript in IPython Notebooks\n",
    "\n",
    "<andy@payne.org>  \n",
    "Updated:  March 11, 2016\n",
    "\n",
    "These are my notes on using Javascript inside of the iPython Web Notebook.\n",
    "\n",
    "## Getting Started\n",
    "\n",
    "The easiest way to access Javascript is with the `%%javascript` cell magic:"
   ]
  },
  {
   "cell_type": "code",
   "execution_count": 1,
   "metadata": {
    "collapsed": false
   },
   "outputs": [
    {
     "data": {
      "application/javascript": [
       "console.log(\"Hello World!\")"
      ],
      "text/plain": [
       "<IPython.core.display.Javascript object>"
      ]
     },
     "metadata": {},
     "output_type": "display_data"
    }
   ],
   "source": [
    "%%javascript\n",
    "console.log(\"Hello World!\")"
   ]
  },
  {
   "cell_type": "markdown",
   "metadata": {},
   "source": [
    "(To view the Javascript console in Chrome & Firefox, use CONTROL+SHIFT+J)."
   ]
  },
  {
   "cell_type": "markdown",
   "metadata": {},
   "source": [
    "## Accessing the Cell Output Area\n",
    "\n",
    "The `element` Javascript variable refers to the current cell.  For example:"
   ]
  },
  {
   "cell_type": "code",
   "execution_count": 2,
   "metadata": {
    "collapsed": false
   },
   "outputs": [
    {
     "data": {
      "application/javascript": [
       "element.append(\"Hello World!\");"
      ],
      "text/plain": [
       "<IPython.core.display.Javascript object>"
      ]
     },
     "metadata": {},
     "output_type": "display_data"
    }
   ],
   "source": [
    "%%javascript\n",
    "element.append(\"Hello World!\");"
   ]
  },
  {
   "cell_type": "markdown",
   "metadata": {},
   "source": [
    "(NOTE:  prior to version 2.0, there was a `container` variable, but the current docs refer to an `element` variable. For more information, see the source: [outputarea.js](https://github.com/ipython/ipython/blob/f1ad8aa9db9ab3ebcaeafb7c4d1bfc7521c65d55/IPython/html/static/notebook/js/outputarea.js)).\n",
    "\n",
    "You can also use the [`Javascript()`](http://ipython.org/ipython-doc/2/api/generated/IPython.core.display.html#IPython.core.display.Javascript) object, creates an object that will be rendered as Javascript by the IPython display system:"
   ]
  },
  {
   "cell_type": "code",
   "execution_count": 3,
   "metadata": {
    "collapsed": false
   },
   "outputs": [
    {
     "data": {
      "application/javascript": [
       "element.append('Hello World, Again!');"
      ],
      "text/plain": [
       "<IPython.core.display.Javascript object>"
      ]
     },
     "execution_count": 3,
     "metadata": {},
     "output_type": "execute_result"
    }
   ],
   "source": [
    "from IPython.display import Javascript\n",
    "Javascript(\"element.append('Hello World, Again!');\")"
   ]
  },
  {
   "cell_type": "markdown",
   "metadata": {},
   "source": [
    "A lower-level approach is to implement a `_repr_javascript_()` object method that returns Javascript.  This lets you add Javascript rendering to any object:"
   ]
  },
  {
   "cell_type": "code",
   "execution_count": 4,
   "metadata": {
    "collapsed": false
   },
   "outputs": [
    {
     "data": {
      "application/javascript": [
       "element.append('HelloWorld class');"
      ],
      "text/plain": [
       "<__main__.HelloWorld instance at 0x7f1a51fcfcb0>"
      ]
     },
     "execution_count": 4,
     "metadata": {},
     "output_type": "execute_result"
    }
   ],
   "source": [
    "class HelloWorld():\n",
    "    def _repr_javascript_(self):\n",
    "        return \"element.append('HelloWorld class');\"\n",
    "    \n",
    "hw = HelloWorld()\n",
    "hw"
   ]
  },
  {
   "cell_type": "markdown",
   "metadata": {},
   "source": [
    "## Global Variables\n",
    "\n",
    "It's sometimes handy to define a global variable or function that can be used in later Javascript cells.  Attributes added to the `windows` object are available as global variables:"
   ]
  },
  {
   "cell_type": "code",
   "execution_count": 5,
   "metadata": {
    "collapsed": false
   },
   "outputs": [
    {
     "data": {
      "application/javascript": [
       "window.foovar = 42;"
      ],
      "text/plain": [
       "<IPython.core.display.Javascript object>"
      ]
     },
     "metadata": {},
     "output_type": "display_data"
    }
   ],
   "source": [
    "%%javascript\n",
    "window.foovar = 42;"
   ]
  },
  {
   "cell_type": "code",
   "execution_count": 6,
   "metadata": {
    "collapsed": false
   },
   "outputs": [
    {
     "data": {
      "application/javascript": [
       "element.append(foovar);"
      ],
      "text/plain": [
       "<IPython.core.display.Javascript object>"
      ]
     },
     "metadata": {},
     "output_type": "display_data"
    }
   ],
   "source": [
    "%%javascript\n",
    "element.append(foovar);"
   ]
  },
  {
   "cell_type": "markdown",
   "metadata": {},
   "source": [
    "## Loading External Javascript Libraries\n",
    "\n",
    "You often need to load other Javascript libraries before your code is run.  The `lib` argument to the `Javascript()` display object specifies required libraries:"
   ]
  },
  {
   "cell_type": "code",
   "execution_count": 19,
   "metadata": {
    "collapsed": false
   },
   "outputs": [
    {
     "data": {
      "application/javascript": [
       "$.getScript(\"http://cdnjs.cloudflare.com/ajax/libs/three.js/r74/three.js\", function () {\n",
       "element.append(THREE.REVISION);});\n"
      ],
      "text/plain": [
       "<IPython.core.display.Javascript object>"
      ]
     },
     "execution_count": 19,
     "metadata": {},
     "output_type": "execute_result"
    }
   ],
   "source": [
    "libs = [\"https://cdnjs.cloudflare.com/ajax/libs/three.js/r74/three.js\"]\n",
    "Javascript(\"\"\"element.append(THREE.REVISION);\"\"\", lib=libs)"
   ]
  },
  {
   "cell_type": "markdown",
   "metadata": {},
   "source": [
    "NOTE: __libraries are reloaded each time the cell is run__.  The underlying implementation, as of IPython 2.1, uses jQuery's [getScript()](http://api.jquery.com/jquery.getscript/) method to load each library in the order specified.  \n",
    "\n",
    "This behavior will break any running event loops (such as an animate event used with THREE.js), because the old event loop will be running with objects defined from the first library load, and the variables will get overwritten with new types based on the second library load.\n",
    "\n",
    "For example, in this THREE.js example, the `animate()` function is called 60 times/second to render the scene and rotate the cube. When the cell is reloaded, the call to `render.render(scene, camera)` will fail:"
   ]
  },
  {
   "cell_type": "code",
   "execution_count": 20,
   "metadata": {
    "collapsed": false
   },
   "outputs": [
    {
     "data": {
      "application/javascript": [
       "$.getScript(\"http://cdnjs.cloudflare.com/ajax/libs/three.js/r74/three.js\", function () {\n",
       "\n",
       "    var renderer = new THREE.WebGLRenderer({ antialias: true });\n",
       "    var canvas = renderer.domElement;\n",
       "    element.append(canvas);\n",
       "    var camera = new THREE.PerspectiveCamera(70, canvas.width / canvas.height, 1, 1000);\n",
       "    camera.position.z = 400;\n",
       "    var scene = new THREE.Scene();\n",
       "    var material = new THREE.MeshDepthMaterial();\n",
       "    var mesh = new THREE.Mesh(new THREE.CubeGeometry(200, 200, 200), material);\n",
       "    scene.add(mesh);\n",
       "    function animate() {\n",
       "        renderer.render(scene, camera);\n",
       "        mesh.rotation.x += 0.005;\n",
       "        mesh.rotation.y += 0.01;\n",
       "        requestAnimationFrame(animate);\n",
       "    }\n",
       "    animate();\n",
       "});\n"
      ],
      "text/plain": [
       "<IPython.core.display.Javascript object>"
      ]
     },
     "execution_count": 20,
     "metadata": {},
     "output_type": "execute_result"
    }
   ],
   "source": [
    "libs = [\"https://cdnjs.cloudflare.com/ajax/libs/three.js/r74/three.js\"]\n",
    "Javascript(\"\"\"\n",
    "    var renderer = new THREE.WebGLRenderer({ antialias: true });\n",
    "    var canvas = renderer.domElement;\n",
    "    element.append(canvas);\n",
    "    var camera = new THREE.PerspectiveCamera(70, canvas.width / canvas.height, 1, 1000);\n",
    "    camera.position.z = 400;\n",
    "    var scene = new THREE.Scene();\n",
    "    var material = new THREE.MeshDepthMaterial();\n",
    "    var mesh = new THREE.Mesh(new THREE.CubeGeometry(200, 200, 200), material);\n",
    "    scene.add(mesh);\n",
    "    function animate() {\n",
    "        renderer.render(scene, camera);\n",
    "        mesh.rotation.x += 0.005;\n",
    "        mesh.rotation.y += 0.01;\n",
    "        requestAnimationFrame(animate);\n",
    "    }\n",
    "    animate();\n",
    "\"\"\", lib=libs)"
   ]
  },
  {
   "cell_type": "markdown",
   "metadata": {},
   "source": [
    "Because of this, the animation event loop will stop when the library is reloaded.  For example, executing the following cell will cause the rotating cube to stop:"
   ]
  },
  {
   "cell_type": "code",
   "execution_count": 21,
   "metadata": {
    "collapsed": false
   },
   "outputs": [
    {
     "data": {
      "application/javascript": [
       "$.getScript(\"http://cdnjs.cloudflare.com/ajax/libs/three.js/r74/three.js\", function () {\n",
       "console.log(THREE);});\n"
      ],
      "text/plain": [
       "<IPython.core.display.Javascript object>"
      ]
     },
     "execution_count": 21,
     "metadata": {},
     "output_type": "execute_result"
    }
   ],
   "source": [
    "libs = [\"https://cdnjs.cloudflare.com/ajax/libs/three.js/r74/three.js\"]\n",
    "Javascript(\"\"\"console.log(THREE);\"\"\", lib=libs)"
   ]
  },
  {
   "cell_type": "markdown",
   "metadata": {},
   "source": [
    "A better approach is to use [require.js](https://requirejs.org/docs/api.html) to load external modules, which is supported starting in IPython 2.0.  First, define the paths to the different modules:"
   ]
  },
  {
   "cell_type": "code",
   "execution_count": 22,
   "metadata": {
    "collapsed": false
   },
   "outputs": [
    {
     "data": {
      "application/javascript": [
       "require.config({\n",
       "    paths: {\n",
       "        'three': \"http://cdnjs.cloudflare.com/ajax/libs/three.js/r74/three\",\n",
       "    }\n",
       "});"
      ],
      "text/plain": [
       "<IPython.core.display.Javascript object>"
      ]
     },
     "metadata": {},
     "output_type": "display_data"
    }
   ],
   "source": [
    "%%javascript\n",
    "require.config({\n",
    "    paths: {\n",
    "        'three': \"https://cdnjs.cloudflare.com/ajax/libs/three.js/r74/three\",\n",
    "    }\n",
    "});"
   ]
  },
  {
   "cell_type": "markdown",
   "metadata": {},
   "source": [
    "Now, use the `require()` function to wrap your code, specifying the libraries you need:"
   ]
  },
  {
   "cell_type": "code",
   "execution_count": 23,
   "metadata": {
    "collapsed": false
   },
   "outputs": [
    {
     "data": {
      "application/javascript": [
       "require(['three'], function() {\n",
       "    element.append(THREE.REVISION);\n",
       "});"
      ],
      "text/plain": [
       "<IPython.core.display.Javascript object>"
      ]
     },
     "metadata": {},
     "output_type": "display_data"
    }
   ],
   "source": [
    "%%javascript\n",
    "require(['three'], function() {\n",
    "    element.append(THREE.REVISION);\n",
    "});"
   ]
  },
  {
   "cell_type": "markdown",
   "metadata": {},
   "source": [
    "Using the previous example:"
   ]
  },
  {
   "cell_type": "code",
   "execution_count": 24,
   "metadata": {
    "collapsed": false
   },
   "outputs": [
    {
     "data": {
      "application/javascript": [
       "var renderer = new THREE.WebGLRenderer({ antialias: true });\n",
       "var canvas = renderer.domElement;\n",
       "element.append(canvas);\n",
       "var camera = new THREE.PerspectiveCamera(70, canvas.width / canvas.height, 1, 1000);\n",
       "camera.position.z = 400;\n",
       "var scene = new THREE.Scene();\n",
       "var material = new THREE.MeshDepthMaterial();\n",
       "var mesh = new THREE.Mesh(new THREE.CubeGeometry(200, 200, 200), material);\n",
       "scene.add(mesh);\n",
       "function animate() {\n",
       "    renderer.render(scene, camera);\n",
       "    mesh.rotation.x += 0.005;\n",
       "    mesh.rotation.y += 0.01;\n",
       "    requestAnimationFrame(animate);\n",
       "}\n",
       "animate();"
      ],
      "text/plain": [
       "<IPython.core.display.Javascript object>"
      ]
     },
     "metadata": {},
     "output_type": "display_data"
    }
   ],
   "source": [
    "%%javascript\n",
    "var renderer = new THREE.WebGLRenderer({ antialias: true });\n",
    "var canvas = renderer.domElement;\n",
    "element.append(canvas);\n",
    "var camera = new THREE.PerspectiveCamera(70, canvas.width / canvas.height, 1, 1000);\n",
    "camera.position.z = 400;\n",
    "var scene = new THREE.Scene();\n",
    "var material = new THREE.MeshDepthMaterial();\n",
    "var mesh = new THREE.Mesh(new THREE.CubeGeometry(200, 200, 200), material);\n",
    "scene.add(mesh);\n",
    "function animate() {\n",
    "    renderer.render(scene, camera);\n",
    "    mesh.rotation.x += 0.005;\n",
    "    mesh.rotation.y += 0.01;\n",
    "    requestAnimationFrame(animate);\n",
    "}\n",
    "animate();"
   ]
  },
  {
   "cell_type": "markdown",
   "metadata": {},
   "source": [
    "And now reloading doesn't break the animation event loop:"
   ]
  },
  {
   "cell_type": "code",
   "execution_count": 25,
   "metadata": {
    "collapsed": false
   },
   "outputs": [
    {
     "data": {
      "application/javascript": [
       "require(['three'], function() {\n",
       "    element.append(THREE.REVISION);\n",
       "});"
      ],
      "text/plain": [
       "<IPython.core.display.Javascript object>"
      ]
     },
     "metadata": {},
     "output_type": "display_data"
    }
   ],
   "source": [
    "%%javascript\n",
    "require(['three'], function() {\n",
    "    element.append(THREE.REVISION);\n",
    "});"
   ]
  },
  {
   "cell_type": "markdown",
   "metadata": {},
   "source": [
    "## Generating Javascript from Python\n",
    "\n",
    "You often want to generate Javascript from Python.  \n",
    "\n",
    "Here's a hack that takes a fragment of Javascript, finds all the functions that are declared, and generates bound Python methods for each function:"
   ]
  },
  {
   "cell_type": "code",
   "execution_count": 26,
   "metadata": {
    "collapsed": false
   },
   "outputs": [],
   "source": [
    "import types\n",
    "from functools import partial\n",
    "import json\n",
    "\n",
    "class JSCode(object):\n",
    "    def __init__(self, code):\n",
    "        self.code = code\n",
    "        self.invokes = \"\"\n",
    "        \n",
    "        # Find all the function name(  lines in the Javasript code\n",
    "        for line in code.split(\"\\n\"):\n",
    "            line = line.strip().split()\n",
    "            if line and line[0] == 'function':\n",
    "                funcname = line[1].split(\"(\")[0]\n",
    "                \n",
    "                # For each create a bound method to add to the list of invocations\n",
    "                def invoke(self, *args):\n",
    "                    argstr = ','.join([json.dumps(arg) for arg in args])\n",
    "                    self.invokes += \"%s(%s);\\n\" % (funcname, argstr)                \n",
    "\n",
    "                setattr(self, funcname, types.MethodType(invoke, self))    \n",
    "                \n",
    "    def _repr_javascript_(self):\n",
    "        \"\"\"Return the code definitions and all invocations\"\"\"\n",
    "        return self.code + self.invokes\n",
    "        "
   ]
  },
  {
   "cell_type": "markdown",
   "metadata": {},
   "source": [
    "For example:"
   ]
  },
  {
   "cell_type": "code",
   "execution_count": 27,
   "metadata": {
    "collapsed": false
   },
   "outputs": [],
   "source": [
    "code = JSCode(\"\"\"\n",
    "    function test() {\n",
    "        console.log(\"test!\");\n",
    "    }\n",
    "\n",
    "    function output(string) {\n",
    "        element.append(string);\n",
    "    }\n",
    "\"\"\")"
   ]
  },
  {
   "cell_type": "markdown",
   "metadata": {},
   "source": [
    "Now, the `code` object has `test()` and `output()` methods corresponding to Javascript methods:"
   ]
  },
  {
   "cell_type": "code",
   "execution_count": 28,
   "metadata": {
    "collapsed": false
   },
   "outputs": [
    {
     "data": {
      "text/plain": [
       "(<bound method ?.invoke of <__main__.JSCode object at 0x7f1a51fd7790>>,\n",
       " <bound method ?.invoke of <__main__.JSCode object at 0x7f1a51fd7790>>)"
      ]
     },
     "execution_count": 28,
     "metadata": {},
     "output_type": "execute_result"
    }
   ],
   "source": [
    "code.test, code.output"
   ]
  },
  {
   "cell_type": "markdown",
   "metadata": {},
   "source": [
    "When these methods are invoked, corresponding Javascript calls are added to the  `code` object:"
   ]
  },
  {
   "cell_type": "code",
   "execution_count": 29,
   "metadata": {
    "collapsed": false
   },
   "outputs": [
    {
     "data": {
      "application/javascript": [
       "\n",
       "    function test() {\n",
       "        console.log(\"test!\");\n",
       "    }\n",
       "\n",
       "    function output(string) {\n",
       "        element.append(string);\n",
       "    }\n",
       "output(\"foo\");\n",
       "output(\" and bar\");\n"
      ],
      "text/plain": [
       "<__main__.JSCode at 0x7f1a51fd7790>"
      ]
     },
     "execution_count": 29,
     "metadata": {},
     "output_type": "execute_result"
    }
   ],
   "source": [
    "code.output(\"foo\")\n",
    "code.output(\" and bar\")\n",
    "code"
   ]
  },
  {
   "cell_type": "markdown",
   "metadata": {},
   "source": [
    "Here is the corresponding Javascript fragment that was generated:"
   ]
  },
  {
   "cell_type": "code",
   "execution_count": 30,
   "metadata": {
    "collapsed": false
   },
   "outputs": [
    {
     "name": "stdout",
     "output_type": "stream",
     "text": [
      "\n",
      "    function test() {\n",
      "        console.log(\"test!\");\n",
      "    }\n",
      "\n",
      "    function output(string) {\n",
      "        element.append(string);\n",
      "    }\n",
      "output(\"foo\");\n",
      "output(\" and bar\");\n",
      "\n"
     ]
    }
   ],
   "source": [
    "print code._repr_javascript_()"
   ]
  },
  {
   "cell_type": "markdown",
   "metadata": {},
   "source": [
    "## References\n",
    "\n",
    "- Javascript code for the Notebok \"output area\":  [outputarea.js](https://github.com/ipython/ipython/blob/f1ad8aa9db9ab3ebcaeafb7c4d1bfc7521c65d55/IPython/html/static/notebook/js/outputarea.js)\n",
    "\n",
    "- Relevant pull request and issue:  https://github.com/ipython/ipython/pull/4646\n",
    "\n",
    "- [IPython Notebook display system](http://nbviewer.ipython.org/github/ipython/ipython/blob/2.x/examples/Notebook/Display%20System.ipynb)\n",
    "\n",
    "- [Implementing custom display logic](http://nbviewer.ipython.org/github/ipython/ipython/blob/2.x/examples/Notebook/Custom%20Display%20Logic.ipynb)"
   ]
  },
  {
   "cell_type": "code",
   "execution_count": null,
   "metadata": {
    "collapsed": true
   },
   "outputs": [],
   "source": []
  }
 ],
 "metadata": {
  "kernelspec": {
   "display_name": "Python 2",
   "language": "python",
   "name": "python2"
  },
  "language_info": {
   "codemirror_mode": {
    "name": "ipython",
    "version": 2
   },
   "file_extension": ".py",
   "mimetype": "text/x-python",
   "name": "python",
   "nbconvert_exporter": "python",
   "pygments_lexer": "ipython2",
   "version": "2.7.6"
  }
 },
 "nbformat": 4,
 "nbformat_minor": 0
}
