{
 "metadata": {
  "name": "",
  "signature": "sha256:fc220529159b475c61137c81e109768a3c15429f84d0bc80d150b186740a95ab"
 },
 "nbformat": 3,
 "nbformat_minor": 0,
 "worksheets": [
  {
   "cells": [
    {
     "cell_type": "markdown",
     "metadata": {},
     "source": [
      "# Text-to-Speech\n",
      "\n",
      "<andy@payne.org>  \n",
      "Updated:  November 1, 2014\n",
      "\n",
      "This notebook shows how to use Chrome's built-in text-to-speech engine.  \n",
      "\n",
      "References:\n",
      "+ https://dvcs.w3.org/hg/speech-api/raw-file/tip/speechapi.html#tts-section\n",
      "\n",
      "Here is the basic form:\n"
     ]
    },
    {
     "cell_type": "code",
     "collapsed": false,
     "input": [
      "%%javascript\n",
      "var msg = new SpeechSynthesisUtterance(\"I Python is fun!\");\n",
      "window.speechSynthesis.speak(msg);"
     ],
     "language": "python",
     "metadata": {},
     "outputs": [
      {
       "javascript": [
        "var msg = new SpeechSynthesisUtterance(\"I Python is fun!\");\n",
        "window.speechSynthesis.speak(msg);"
       ],
       "metadata": {},
       "output_type": "display_data",
       "text": [
        "<IPython.core.display.Javascript at 0x7f3a4c687550>"
       ]
      }
     ],
     "prompt_number": 57
    },
    {
     "cell_type": "markdown",
     "metadata": {},
     "source": [
      "Now, we can make a Python function that returns a spoken result:"
     ]
    },
    {
     "cell_type": "markdown",
     "metadata": {},
     "source": [
      "from IPython.display import Javascript\n",
      "import json\n",
      "\n",
      "def speak(msg):\n",
      "    return Javascript(\"\"\"\n",
      "            var msg = new SpeechSynthesisUtterance(%s);\n",
      "            window.speechSynthesis.cancel();\n",
      "            window.speechSynthesis.speak(msg);\n",
      "        \"\"\" % json.dumps(msg))"
     ]
    },
    {
     "cell_type": "markdown",
     "metadata": {},
     "source": [
      "For example, if you have a long-running notebook cell, you could finish it with:"
     ]
    },
    {
     "cell_type": "code",
     "collapsed": false,
     "input": [
      "import random\n",
      "answer = int(random.random() * 100)\n",
      "speak(\"Computation is complete.  The answer is: %d.\" % answer)"
     ],
     "language": "python",
     "metadata": {},
     "outputs": [
      {
       "javascript": [
        "\n",
        "            var msg = new SpeechSynthesisUtterance(\"Computation is complete.  The answer is: 13.\");\n",
        "            window.speechSynthesis.cancel();\n",
        "            window.speechSynthesis.speak(msg);\n",
        "        "
       ],
       "metadata": {},
       "output_type": "pyout",
       "prompt_number": 31,
       "text": [
        "<IPython.core.display.Javascript at 0x7f3a4c687150>"
       ]
      }
     ],
     "prompt_number": 31
    },
    {
     "cell_type": "code",
     "collapsed": false,
     "input": [],
     "language": "python",
     "metadata": {},
     "outputs": []
    }
   ],
   "metadata": {}
  }
 ]
}