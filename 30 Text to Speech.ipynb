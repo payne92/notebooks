{
 "cells": [
  {
   "cell_type": "markdown",
   "metadata": {},
   "source": [
    "# Text-to-Speech\n",
    "\n",
    "<andy@payne.org>  \n",
    "Updated:  March 11, 2016\n",
    "\n",
    "This notebook shows how to use Chrome's built-in text-to-speech engine.  \n",
    "\n",
    "References:\n",
    "+ https://dvcs.w3.org/hg/speech-api/raw-file/tip/speechapi.html#tts-section\n",
    "\n",
    "Here is the basic form:\n"
   ]
  },
  {
   "cell_type": "code",
   "execution_count": 3,
   "metadata": {
    "collapsed": false
   },
   "outputs": [
    {
     "data": {
      "application/javascript": [
       "var msg = new SpeechSynthesisUtterance(\"I Python is fun!\");\n",
       "window.speechSynthesis.speak(msg);"
      ],
      "text/plain": [
       "<IPython.core.display.Javascript object>"
      ]
     },
     "metadata": {},
     "output_type": "display_data"
    }
   ],
   "source": [
    "%%javascript\n",
    "var msg = new SpeechSynthesisUtterance(\"I Python is fun!\");\n",
    "window.speechSynthesis.speak(msg);"
   ]
  },
  {
   "cell_type": "markdown",
   "metadata": {},
   "source": [
    "Now, we can make a Python function that returns a spoken result:"
   ]
  },
  {
   "cell_type": "code",
   "execution_count": 4,
   "metadata": {
    "collapsed": true
   },
   "outputs": [],
   "source": [
    "from IPython.display import Javascript\n",
    "import json\n",
    "\n",
    "def speak(msg):\n",
    "    return Javascript(\"\"\"\n",
    "            var msg = new SpeechSynthesisUtterance(%s);\n",
    "            window.speechSynthesis.cancel();\n",
    "            window.speechSynthesis.speak(msg);\n",
    "        \"\"\" % json.dumps(msg))"
   ]
  },
  {
   "cell_type": "markdown",
   "metadata": {},
   "source": [
    "For example, if you have a long-running notebook cell, you could finish it with:"
   ]
  },
  {
   "cell_type": "code",
   "execution_count": 6,
   "metadata": {
    "collapsed": false
   },
   "outputs": [
    {
     "data": {
      "application/javascript": [
       "\n",
       "            var msg = new SpeechSynthesisUtterance(\"Computation is complete.  The answer is: 11.\");\n",
       "            window.speechSynthesis.cancel();\n",
       "            window.speechSynthesis.speak(msg);\n",
       "        "
      ],
      "text/plain": [
       "<IPython.core.display.Javascript object>"
      ]
     },
     "execution_count": 6,
     "metadata": {},
     "output_type": "execute_result"
    }
   ],
   "source": [
    "import random\n",
    "answer = int(random.random() * 100)\n",
    "speak(\"Computation is complete.  The answer is: %d.\" % answer)"
   ]
  },
  {
   "cell_type": "code",
   "execution_count": null,
   "metadata": {
    "collapsed": false
   },
   "outputs": [],
   "source": []
  }
 ],
 "metadata": {
  "kernelspec": {
   "display_name": "Python 2",
   "language": "python",
   "name": "python2"
  },
  "language_info": {
   "codemirror_mode": {
    "name": "ipython",
    "version": 2
   },
   "file_extension": ".py",
   "mimetype": "text/x-python",
   "name": "python",
   "nbconvert_exporter": "python",
   "pygments_lexer": "ipython2",
   "version": "2.7.6"
  }
 },
 "nbformat": 4,
 "nbformat_minor": 0
}
